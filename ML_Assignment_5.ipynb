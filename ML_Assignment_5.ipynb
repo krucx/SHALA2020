{
  "nbformat": 4,
  "nbformat_minor": 0,
  "metadata": {
    "colab": {
      "name": "ML-Assignment-5.ipynb",
      "provenance": [],
      "include_colab_link": true
    },
    "kernelspec": {
      "display_name": "Python 3",
      "language": "python",
      "name": "python3"
    },
    "language_info": {
      "codemirror_mode": {
        "name": "ipython",
        "version": 3
      },
      "file_extension": ".py",
      "mimetype": "text/x-python",
      "name": "python",
      "nbconvert_exporter": "python",
      "pygments_lexer": "ipython3",
      "version": "3.7.6"
    }
  },
  "cells": [
    {
      "cell_type": "markdown",
      "metadata": {
        "id": "view-in-github",
        "colab_type": "text"
      },
      "source": [
        "<a href=\"https://colab.research.google.com/github/krucx/SHALA2020/blob/master/ML_Assignment_5.ipynb\" target=\"_parent\"><img src=\"https://colab.research.google.com/assets/colab-badge.svg\" alt=\"Open In Colab\"/></a>"
      ]
    },
    {
      "cell_type": "markdown",
      "metadata": {
        "colab_type": "text",
        "id": "arLDVfoh4rOg"
      },
      "source": [
        "#**SVM**"
      ]
    },
    {
      "cell_type": "code",
      "metadata": {
        "colab_type": "code",
        "id": "MEEp0sf04pIP",
        "colab": {}
      },
      "source": [
        "import numpy as np\n",
        "import matplotlib.pyplot as plt\n",
        "import random\n",
        "from numpy import linalg as LA"
      ],
      "execution_count": 0,
      "outputs": []
    },
    {
      "cell_type": "markdown",
      "metadata": {
        "colab_type": "text",
        "id": "vJ2o5DL4478w"
      },
      "source": [
        "\n",
        "\n",
        "---\n",
        "\n",
        "\n",
        "**Generating Random linearly separable data**\n",
        "\n",
        "\n",
        "---\n",
        "\n"
      ]
    },
    {
      "cell_type": "code",
      "metadata": {
        "colab_type": "code",
        "id": "UbaJAhdL5BLA",
        "colab": {}
      },
      "source": [
        "data = [[np.random.rand(), np.random.rand()] for i in range(10)]\n",
        "\n",
        "for i, point in enumerate(data):\n",
        "  x, y = point\n",
        "  if 0.5*x - y + 0.25 > 0:\n",
        "    data[i].append(-1)\n",
        "  else:\n",
        "    data[i].append(1)"
      ],
      "execution_count": 0,
      "outputs": []
    },
    {
      "cell_type": "markdown",
      "metadata": {
        "colab_type": "text",
        "id": "S3afrVhJ5FSS"
      },
      "source": [
        "\n",
        "\n",
        "---\n",
        "\n",
        "\n",
        "**Visualizing the above data**\n",
        "\n",
        "\n",
        "---\n",
        "\n"
      ]
    },
    {
      "cell_type": "code",
      "metadata": {
        "colab_type": "code",
        "id": "6x0FkJik5LPi",
        "outputId": "7b77691f-8933-4895-d3de-01d761a9783e",
        "colab": {
          "base_uri": "https://localhost:8080/",
          "height": 269
        }
      },
      "source": [
        "for x, y, l in data:\n",
        "  if l == 1: \n",
        "    clr = 'red'\n",
        "  else: \n",
        "    clr = 'blue'\n",
        "  plt.scatter(x, y, c=clr)\n",
        "  plt.xlim(0,1)\n",
        "  plt.ylim(0,1)"
      ],
      "execution_count": 0,
      "outputs": [
        {
          "output_type": "display_data",
          "data": {
            "image/png": "[encoded data removed]",
            "text/plain": [
              "<Figure size 432x288 with 1 Axes>"
            ]
          },
          "metadata": {
            "tags": [],
            "needs_background": "light"
          }
        }
      ]
    },
    {
      "cell_type": "markdown",
      "metadata": {
        "colab_type": "text",
        "id": "yXabL9FB5Qe1"
      },
      "source": [
        "\n",
        "\n",
        "---\n",
        "\n",
        "\n",
        "**Train a SVM classifier using gradient descent and return a Weight Matrix which is a numpy array of length (N + 1) where N is dimension of training samples. You can refer to Fig. 1 in [this](https://www.cs.huji.ac.il/~shais/papers/ShalevSiSrCo10.pdf) paper for implementation. You can add arguments to svm_function according to your implementation.**\n",
        "\n",
        "\n",
        "---\n",
        "\n"
      ]
    },
    {
      "cell_type": "code",
      "metadata": {
        "colab_type": "code",
        "id": "LpSHX3lT5VDt",
        "colab": {}
      },
      "source": [
        "def svm_function(x, y, epoch, l_rate):\n",
        "    w = np.zeros(x.shape[1])\n",
        "    for t in range(1,epoch):\n",
        "        e = 1/(l_rate*epoch)\n",
        "        for i in range(x.shape[0]):\n",
        "            if(y[i]*np.dot(x[i],w)<1):\n",
        "                w = (1 - l_rate*e)*w + e*y[i]*np.transpose(x[i])\n",
        "            else:\n",
        "                w = (1 - l_rate*e)*w\n",
        "    return w"
      ],
      "execution_count": 0,
      "outputs": []
    },
    {
      "cell_type": "markdown",
      "metadata": {
        "colab_type": "text",
        "id": "-GMSHqOB5Y7n"
      },
      "source": [
        "\n",
        "\n",
        "---\n",
        "\n",
        "\n",
        "**Run SVM Classifier**\n",
        "\n",
        "\n",
        "---\n",
        "\n"
      ]
    },
    {
      "cell_type": "code",
      "metadata": {
        "colab_type": "code",
        "id": "MY2AcFkZ5d2a",
        "outputId": "2ea06bf5-431f-43ac-85dc-30d8bcfc3e4c",
        "colab": {
          "base_uri": "https://localhost:8080/",
          "height": 34
        }
      },
      "source": [
        "data = np.asarray(data)\n",
        "X_temp = data[:,:2]\n",
        "Y = data[:,2] \n",
        "X = np.ones((X_temp.shape[0],X_temp.shape[1]+1))\n",
        "X[:,:-1] = X_temp\n",
        "w = svm_function(X, Y, 10000, 0.01)\n",
        "print(w)"
      ],
      "execution_count": 0,
      "outputs": [
        {
          "output_type": "stream",
          "text": [
            "[-0.00860677  4.12685079 -1.47755872]\n"
          ],
          "name": "stdout"
        }
      ]
    },
    {
      "cell_type": "markdown",
      "metadata": {
        "colab_type": "text",
        "id": "4t6lPISE5h4e"
      },
      "source": [
        "# **Visualize the classifier**\n",
        "\n",
        "\n",
        "---\n",
        "\n",
        "Write a code to draw a lines corrosponding to 'w' vector you got as output from svm_function and for a line from which actual data was generated (0.5*x - y + 0.25). \n",
        "\n",
        "---\n",
        "\n"
      ]
    },
    {
      "cell_type": "code",
      "metadata": {
        "colab_type": "code",
        "id": "wrCLTSVx5mBF",
        "colab": {},
        "outputId": "9108c7cb-1f71-4336-d168-0a92a8b24b9c"
      },
      "source": [
        "for x, y, l in data:\n",
        "    if l == 1: \n",
        "        clr = 'red'\n",
        "    else: \n",
        "        clr = 'blue'\n",
        "    plt.scatter(x, y, c=clr)\n",
        "x1 = np.linspace(-5,5,100)\n",
        "y1 = (-w[0]*x1-w[2])/w[1]\n",
        "plt.plot(x1, y1, c='green',label='SVM')\n",
        "y2 = 0.5*x1 + 0.25\n",
        "plt.plot(x1, y2, c='orange',label='Basis')\n",
        "plt.xlim(0,1)\n",
        "plt.ylim(0,1)\n",
        "plt.legend()\n",
        "plt.show()"
      ],
      "execution_count": 0,
      "outputs": [
        {
          "output_type": "display_data",
          "data": {
            "image/png": "[encoded data removed]",
            "text/plain": [
              "<Figure size 432x288 with 1 Axes>"
            ]
          },
          "metadata": {
            "tags": [],
            "needs_background": "light"
          }
        }
      ]
    },
    {
      "cell_type": "markdown",
      "metadata": {
        "colab_type": "text",
        "id": "zSQ2B6IK7pRq"
      },
      "source": [
        "#**Linearly Non-separable Data**"
      ]
    },
    {
      "cell_type": "code",
      "metadata": {
        "colab_type": "code",
        "id": "kZ5Mt_3Z73WS",
        "outputId": "029f902a-7aa7-418d-9658-f43d6b3f1b99",
        "colab": {
          "base_uri": "https://localhost:8080/",
          "height": 279
        }
      },
      "source": [
        "from sklearn.datasets import make_circles\n",
        "from matplotlib import pyplot\n",
        "from pandas import DataFrame\n",
        "\n",
        "# generate 2d classification dataset\n",
        "X, y = make_circles(n_samples=100, noise=0.05)\n",
        "# scatter plot, dots colored by class value\n",
        "df = DataFrame(dict(x=X[:,0], y=X[:,1], label=y))\n",
        "colors = {0:'red', 1:'blue'}\n",
        "fig, ax = pyplot.subplots()\n",
        "grouped = df.groupby('label')\n",
        "for key, group in grouped:\n",
        "    group.plot(ax=ax, kind='scatter', x='x', y='y', label=key, color=colors[key])\n",
        "pyplot.show()"
      ],
      "execution_count": 0,
      "outputs": [
        {
          "output_type": "display_data",
          "data": {
            "image/png": "[encoded data removed]",
            "text/plain": [
              "<Figure size 432x288 with 1 Axes>"
            ]
          },
          "metadata": {
            "tags": [],
            "needs_background": "light"
          }
        }
      ]
    },
    {
      "cell_type": "markdown",
      "metadata": {
        "colab_type": "text",
        "id": "SDtuOIuy6xPL"
      },
      "source": [
        "\n",
        "\n",
        "---\n",
        "\n",
        "\n",
        "**Train a SVM classifier on the linearly non-separable data by appropriate features crafted from input data For linearly non-separable data, you need to transform the data in a space where it can be linearly seprable.\n",
        "These features can be exponential, polynomial, trignometric or any other function of actual input features.\n",
        "For example, if your input data is (x1, x2) you can have hand-crafted features as (sin(x1), cos(x1), cos(x2), x1-x2).\n",
        "Here you need to think of which hand-crafted features can be best suited for data given to you.\n",
        "Write a function to convert input features to hand-crafted features. Use these features to train a SVM using svm_function.\n",
        "Note that, if you choose to have L hand-crafted features, SVM will return L+1 dimensional 'w'.**\n",
        "\n",
        "\n",
        "---\n",
        "\n"
      ]
    },
    {
      "cell_type": "code",
      "metadata": {
        "colab_type": "code",
        "id": "rZF4nHvz6-2I",
        "colab": {},
        "outputId": "9e64f507-36c2-45be-ca27-ffe06b5fb235"
      },
      "source": [
        "X_temp=df.iloc[:,0]*df.iloc[:,0]+df.iloc[:,1]*df.iloc[:,1]\n",
        "Y=df.iloc[:,2]\n",
        "Y = Y.to_numpy()\n",
        "X = np.ones((X_temp.shape[0],2)) \n",
        "X[:,1] = X_temp\n",
        "w = svm_function(X, Y, 10000, 0.01)\n",
        "print(w)"
      ],
      "execution_count": 0,
      "outputs": [
        {
          "output_type": "stream",
          "text": [
            "[0.835666   0.37205569]\n"
          ],
          "name": "stdout"
        }
      ]
    },
    {
      "cell_type": "markdown",
      "metadata": {
        "colab_type": "text",
        "id": "k9RC8lVS81F8"
      },
      "source": [
        "\n",
        "\n",
        "---\n",
        "\n",
        "\n",
        "**Visualize the data points in the new feature space \"if possible\" to see whether they got separated or not.**\n",
        "\n",
        "\n",
        "---\n",
        "\n"
      ]
    },
    {
      "cell_type": "code",
      "metadata": {
        "colab_type": "code",
        "id": "T_M3rNKF7g-W",
        "colab": {},
        "outputId": "37cadaf9-29e2-445b-f79b-56b7a87f94c0"
      },
      "source": [
        "plt.figure(figsize=(100,100))\n",
        "df = DataFrame(dict(x=0, y=X[:,1], label=y))\n",
        "colors = {0:'red', 1:'blue'}\n",
        "fig, ax = pyplot.subplots()\n",
        "grouped = df.groupby('label')\n",
        "for key, group in grouped:\n",
        "    group.plot(ax=ax, kind='scatter', x='x', y='y', label=key, color=colors[key])\n",
        "\n",
        "x1 = np.arange(-0.2,0.2,0.01)\n",
        "y1 = w[0]+w[1]*x1\n",
        "plt.plot(x1,y1)\n",
        "pyplot.show()"
      ],
      "execution_count": 0,
      "outputs": [
        {
          "output_type": "display_data",
          "data": {
            "text/plain": [
              "<Figure size 7200x7200 with 0 Axes>"
            ]
          },
          "metadata": {
            "tags": []
          }
        },
        {
          "output_type": "display_data",
          "data": {
            "image/png": "[encoded data removed]",
            "text/plain": [
              "<Figure size 432x288 with 1 Axes>"
            ]
          },
          "metadata": {
            "tags": [],
            "needs_background": "light"
          }
        }
      ]
    },
    {
      "cell_type": "code",
      "metadata": {
        "id": "nK1yRIgBQbeX",
        "colab_type": "code",
        "colab": {}
      },
      "source": [
        ""
      ],
      "execution_count": 0,
      "outputs": []
    }
  ]
}